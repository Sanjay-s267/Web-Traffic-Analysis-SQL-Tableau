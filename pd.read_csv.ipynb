{
 "cells": [
  {
   "cell_type": "code",
   "execution_count": 2,
   "id": "55205ff1-e178-49e7-beb5-221c3c72e3eb",
   "metadata": {},
   "outputs": [
    {
     "name": "stdout",
     "output_type": "stream",
     "text": [
      "Defaulting to user installation because normal site-packages is not writeable\n",
      "Requirement already satisfied: pandas in d:\\programdata\\anaconda3\\lib\\site-packages (2.2.3)\n",
      "Requirement already satisfied: numpy>=1.26.0 in d:\\programdata\\anaconda3\\lib\\site-packages (from pandas) (2.1.3)\n",
      "Requirement already satisfied: python-dateutil>=2.8.2 in d:\\programdata\\anaconda3\\lib\\site-packages (from pandas) (2.9.0.post0)\n",
      "Requirement already satisfied: pytz>=2020.1 in d:\\programdata\\anaconda3\\lib\\site-packages (from pandas) (2024.1)\n",
      "Requirement already satisfied: tzdata>=2022.7 in d:\\programdata\\anaconda3\\lib\\site-packages (from pandas) (2025.2)\n",
      "Requirement already satisfied: six>=1.5 in d:\\programdata\\anaconda3\\lib\\site-packages (from python-dateutil>=2.8.2->pandas) (1.17.0)\n",
      "Note: you may need to restart the kernel to use updated packages.\n"
     ]
    }
   ],
   "source": [
    "pip install pandas"
   ]
  },
  {
   "cell_type": "code",
   "execution_count": 7,
   "id": "ac19eb79-1623-4392-9d9b-c5f8cee49a86",
   "metadata": {},
   "outputs": [],
   "source": [
    "import pandas as pd\n",
    "import numpy as np # You'll likely need this one too"
   ]
  },
  {
   "cell_type": "code",
   "execution_count": 23,
   "id": "bac7511f-c382-4f4a-a3e2-5362bad7e008",
   "metadata": {},
   "outputs": [],
   "source": [
    "df = pd.read_excel(\"WebTraffic.xlsx\")"
   ]
  },
  {
   "cell_type": "code",
   "execution_count": 24,
   "id": "567a3dcb-a4a9-4d59-b5b6-a3fbb21e8ddf",
   "metadata": {},
   "outputs": [
    {
     "name": "stdout",
     "output_type": "stream",
     "text": [
      "Scaling BounceRate (Dividing by 100)...\n",
      "\n",
      "--- Transformed Data Head ---\n",
      "  SessionID UserID  VisitDate   Device  PageViews  BounceRate  \\\n",
      "0        S0     U0 2024-11-12   Tablet          8      0.7400   \n",
      "1        S1     U1 2024-07-15   Mobile          7      0.3098   \n",
      "2        S2     U2 2024-09-25   Tablet         11      0.8163   \n",
      "3        S3     U3 2025-02-11   Mobile         10      0.0544   \n",
      "4        S4     U4 2025-04-27  Desktop          4      0.2011   \n",
      "\n",
      "   SessionDurationSeconds  EngagementScore  \n",
      "0                     909      9827.027027  \n",
      "1                     620     14009.038089  \n",
      "2                     920     12397.402916  \n",
      "3                     553    101654.411765  \n",
      "4                    1750     34808.552959  \n",
      "\n",
      "--- Final Data Info ---\n",
      "<class 'pandas.core.frame.DataFrame'>\n",
      "RangeIndex: 10000 entries, 0 to 9999\n",
      "Data columns (total 8 columns):\n",
      " #   Column                  Non-Null Count  Dtype         \n",
      "---  ------                  --------------  -----         \n",
      " 0   SessionID               10000 non-null  object        \n",
      " 1   UserID                  10000 non-null  object        \n",
      " 2   VisitDate               10000 non-null  datetime64[ns]\n",
      " 3   Device                  10000 non-null  object        \n",
      " 4   PageViews               10000 non-null  int64         \n",
      " 5   BounceRate              10000 non-null  float64       \n",
      " 6   SessionDurationSeconds  10000 non-null  int64         \n",
      " 7   EngagementScore         10000 non-null  float64       \n",
      "dtypes: datetime64[ns](1), float64(2), int64(2), object(3)\n",
      "memory usage: 625.1+ KB\n"
     ]
    }
   ],
   "source": [
    "# 1. Date Conversion: Convert VisitDate to datetime\n",
    "df['VisitDate'] = pd.to_datetime(df['VisitDate'])\n",
    "\n",
    "# 2. Bounce Rate Scaling: Assuming BounceRate is a percentage, convert it to a ratio (0 to 1).\n",
    "# We'll check if the values are generally > 1, and only scale if they are.\n",
    "# If they are already ratios (0 to 1), this operation will do no harm.\n",
    "if (df['BounceRate'] > 1).any():\n",
    "    print(\"Scaling BounceRate (Dividing by 100)...\")\n",
    "    df['BounceRate'] = df['BounceRate'] / 100.0\n",
    "\n",
    "# Ensure BounceRate is within a valid ratio range [0, 1] after scaling\n",
    "df['BounceRate'] = df['BounceRate'].clip(lower=0, upper=1)\n",
    "\n",
    "# 3. Feature Engineering: Create Engagement Score\n",
    "# Formula: (SessionDurationSeconds * PageViews) / BounceRate (or 1 if BounceRate is 0)\n",
    "# We use numpy.where to prevent division by zero.\n",
    "import numpy as np\n",
    "df['EngagementScore'] = (df['SessionDurationSeconds'] * df['PageViews']) / np.where(df['BounceRate'] == 0, 1, df['BounceRate'])\n",
    "\n",
    "# Check the results of the transformations\n",
    "print(\"\\n--- Transformed Data Head ---\")\n",
    "print(df.head())\n",
    "print(\"\\n--- Final Data Info ---\")\n",
    "df.info()"
   ]
  },
  {
   "cell_type": "code",
   "execution_count": 25,
   "id": "306f51fd-922d-4b3b-af43-a2c3020f6a1d",
   "metadata": {},
   "outputs": [
    {
     "name": "stdout",
     "output_type": "stream",
     "text": [
      "\n",
      "--- A. Average Session Duration by Device (seconds) ---\n",
      "Device\n",
      "Desktop    923.553127\n",
      "Tablet     914.294223\n",
      "Mobile     901.794803\n",
      "Name: SessionDurationSeconds, dtype: float64\n",
      "\n",
      "--- B. Correlation Matrix ---\n",
      "                        SessionDurationSeconds  PageViews  BounceRate\n",
      "SessionDurationSeconds                1.000000   0.014201    0.000591\n",
      "PageViews                             0.014201   1.000000   -0.001320\n",
      "BounceRate                            0.000591  -0.001320    1.000000\n"
     ]
    }
   ],
   "source": [
    "# --- A. Analyze average SessionDurationSeconds by Device (Your Task) ---\n",
    "# Replace df with data in your notebook!\n",
    "device_duration_avg = df.groupby('Device')['SessionDurationSeconds'].mean().sort_values(ascending=False)\n",
    "print(\"\\n--- A. Average Session Duration by Device (seconds) ---\")\n",
    "print(device_duration_avg)\n",
    "\n",
    "# --- B. Correlate session duration with PageViews and BounceRate (Your Task) ---\n",
    "# Replace df with data in your notebook!\n",
    "correlation_matrix = df[['SessionDurationSeconds', 'PageViews', 'BounceRate']].corr()\n",
    "print(\"\\n--- B. Correlation Matrix ---\")\n",
    "print(correlation_matrix)"
   ]
  },
  {
   "cell_type": "code",
   "execution_count": 26,
   "id": "c7df08da-28ff-46ef-8a3e-511eb562a90e",
   "metadata": {},
   "outputs": [
    {
     "name": "stdout",
     "output_type": "stream",
     "text": [
      "Exported 'final_web_traffic_for_sql.csv' for SQL import.\n"
     ]
    }
   ],
   "source": [
    "# Save the final cleaned and augmented data for SQL import\n",
    "# Replace df with data in your notebook!\n",
    "df.to_csv('final_web_traffic_for_sql.csv', index=False)\n",
    "print(\"Exported 'final_web_traffic_for_sql.csv' for SQL import.\")"
   ]
  },
  {
   "cell_type": "code",
   "execution_count": null,
   "id": "35ee3148-835c-4b2e-abce-87de9be4a593",
   "metadata": {},
   "outputs": [],
   "source": [
    " "
   ]
  }
 ],
 "metadata": {
  "kernelspec": {
   "display_name": "Python 3 (ipykernel)",
   "language": "python",
   "name": "python3"
  },
  "language_info": {
   "codemirror_mode": {
    "name": "ipython",
    "version": 3
   },
   "file_extension": ".py",
   "mimetype": "text/x-python",
   "name": "python",
   "nbconvert_exporter": "python",
   "pygments_lexer": "ipython3",
   "version": "3.13.5"
  }
 },
 "nbformat": 4,
 "nbformat_minor": 5
}
